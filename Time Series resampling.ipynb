{
 "cells": [
  {
   "cell_type": "markdown",
   "metadata": {},
   "source": [
    "#### Converting or Resampling Time Series"
   ]
  },
  {
   "cell_type": "code",
   "execution_count": 1,
   "metadata": {},
   "outputs": [],
   "source": [
    "import pandas as pd\n",
    "import datetime as dt"
   ]
  },
  {
   "cell_type": "code",
   "execution_count": 2,
   "metadata": {},
   "outputs": [],
   "source": [
    "# Generating a time series with Hour frequency \n",
    "dt_range = pd.date_range('2022-05-12', periods=10, freq='H')"
   ]
  },
  {
   "cell_type": "code",
   "execution_count": 3,
   "metadata": {},
   "outputs": [
    {
     "data": {
      "text/plain": [
       "DatetimeIndex(['2022-05-12 00:00:00', '2022-05-12 01:00:00',\n",
       "               '2022-05-12 02:00:00', '2022-05-12 03:00:00',\n",
       "               '2022-05-12 04:00:00', '2022-05-12 05:00:00',\n",
       "               '2022-05-12 06:00:00', '2022-05-12 07:00:00',\n",
       "               '2022-05-12 08:00:00', '2022-05-12 09:00:00'],\n",
       "              dtype='datetime64[ns]', freq='H')"
      ]
     },
     "execution_count": 3,
     "metadata": {},
     "output_type": "execute_result"
    }
   ],
   "source": [
    "# This output returns the first 10 hours of the specified date. Dtype is 'datetime64'\n",
    "dt_range"
   ]
  },
  {
   "cell_type": "code",
   "execution_count": 4,
   "metadata": {},
   "outputs": [],
   "source": [
    "# This line of code creates a range list from the dt_range that is used as the data in Pandas Series\n",
    "time_series = pd.Series(range(len(dt_range)), dt_range)"
   ]
  },
  {
   "cell_type": "code",
   "execution_count": 5,
   "metadata": {},
   "outputs": [
    {
     "data": {
      "text/plain": [
       "2022-05-12 00:00:00    0\n",
       "2022-05-12 01:00:00    1\n",
       "2022-05-12 02:00:00    2\n",
       "2022-05-12 03:00:00    3\n",
       "2022-05-12 04:00:00    4\n",
       "2022-05-12 05:00:00    5\n",
       "2022-05-12 06:00:00    6\n",
       "2022-05-12 07:00:00    7\n",
       "2022-05-12 08:00:00    8\n",
       "2022-05-12 09:00:00    9\n",
       "Freq: H, dtype: int64"
      ]
     },
     "execution_count": 5,
     "metadata": {},
     "output_type": "execute_result"
    }
   ],
   "source": [
    "time_series"
   ]
  },
  {
   "cell_type": "code",
   "execution_count": 6,
   "metadata": {},
   "outputs": [
    {
     "data": {
      "text/plain": [
       "2022-05-12 00:00:00    0.5\n",
       "2022-05-12 02:00:00    2.5\n",
       "2022-05-12 04:00:00    4.5\n",
       "2022-05-12 06:00:00    6.5\n",
       "2022-05-12 08:00:00    8.5\n",
       "Freq: 2H, dtype: float64"
      ]
     },
     "execution_count": 6,
     "metadata": {},
     "output_type": "execute_result"
    }
   ],
   "source": [
    "# Resampling or Converting H or 1H frequency to 2H\n",
    "time_series.resample('2H').mean()"
   ]
  },
  {
   "cell_type": "code",
   "execution_count": 7,
   "metadata": {},
   "outputs": [],
   "source": [
    "# Working with '2H' the function sums the first two freq(... 00:00:00 & 01:00:00) using initial time series and divides it by 2 that gives 0.5.\n",
    "# Furthering with '2H' the function sums the second two freq(... 02:00:00 & 03:00:00) and divides it by 2 that gives 2.5 and so on."
   ]
  },
  {
   "cell_type": "code",
   "execution_count": 8,
   "metadata": {},
   "outputs": [
    {
     "data": {
      "text/plain": [
       "2022-05-12 00:00:00    1.5\n",
       "2022-05-12 04:00:00    5.5\n",
       "2022-05-12 08:00:00    8.5\n",
       "Freq: 4H, dtype: float64"
      ]
     },
     "execution_count": 8,
     "metadata": {},
     "output_type": "execute_result"
    }
   ],
   "source": [
    "time_series.resample('4H').mean()"
   ]
  },
  {
   "cell_type": "code",
   "execution_count": 9,
   "metadata": {},
   "outputs": [],
   "source": [
    "# Working with '4H' the function sums the first four freq(... 00:00:00 - 03:00:00) and divides it by 4 that gives 1.5\n",
    "# Furthering with '4H' the function sums the second four freq(... 04:00:00 - 07:00:00) and divides it by 4 that gives 5.5\n",
    "# We are left with (08:00:00 & 09:00:00), the mean() of which returns 8.5."
   ]
  }
 ],
 "metadata": {
  "kernelspec": {
   "display_name": "Python 3",
   "language": "python",
   "name": "python3"
  },
  "language_info": {
   "codemirror_mode": {
    "name": "ipython",
    "version": 3
   },
   "file_extension": ".py",
   "mimetype": "text/x-python",
   "name": "python",
   "nbconvert_exporter": "python",
   "pygments_lexer": "ipython3",
   "version": "3.7.6"
  }
 },
 "nbformat": 4,
 "nbformat_minor": 4
}
